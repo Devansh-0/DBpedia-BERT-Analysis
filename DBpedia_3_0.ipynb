{
  "nbformat": 4,
  "nbformat_minor": 0,
  "metadata": {
    "colab": {
      "name": "DBpedia 3.0.ipynb",
      "provenance": [],
      "collapsed_sections": [],
      "include_colab_link": true
    },
    "kernelspec": {
      "name": "python3",
      "display_name": "Python 3"
    },
    "language_info": {
      "name": "python"
    },
    "accelerator": "GPU",
    "widgets": {
      "application/vnd.jupyter.widget-state+json": {
        "bedeab5661fb439394e48e8ad2cbf8fb": {
          "model_module": "@jupyter-widgets/controls",
          "model_name": "HBoxModel",
          "state": {
            "_view_name": "HBoxView",
            "_dom_classes": [],
            "_model_name": "HBoxModel",
            "_view_module": "@jupyter-widgets/controls",
            "_model_module_version": "1.5.0",
            "_view_count": null,
            "_view_module_version": "1.5.0",
            "box_style": "",
            "layout": "IPY_MODEL_8d2f1a5c9b9a48bdb97849dfb9a684aa",
            "_model_module": "@jupyter-widgets/controls",
            "children": [
              "IPY_MODEL_9566a33d634f40429153cca035c7f2e8",
              "IPY_MODEL_56635b11ebe342039f0ac07a5c0267a6"
            ]
          }
        },
        "8d2f1a5c9b9a48bdb97849dfb9a684aa": {
          "model_module": "@jupyter-widgets/base",
          "model_name": "LayoutModel",
          "state": {
            "_view_name": "LayoutView",
            "grid_template_rows": null,
            "right": null,
            "justify_content": null,
            "_view_module": "@jupyter-widgets/base",
            "overflow": null,
            "_model_module_version": "1.2.0",
            "_view_count": null,
            "flex_flow": null,
            "width": null,
            "min_width": null,
            "border": null,
            "align_items": null,
            "bottom": null,
            "_model_module": "@jupyter-widgets/base",
            "top": null,
            "grid_column": null,
            "overflow_y": null,
            "overflow_x": null,
            "grid_auto_flow": null,
            "grid_area": null,
            "grid_template_columns": null,
            "flex": null,
            "_model_name": "LayoutModel",
            "justify_items": null,
            "grid_row": null,
            "max_height": null,
            "align_content": null,
            "visibility": null,
            "align_self": null,
            "height": null,
            "min_height": null,
            "padding": null,
            "grid_auto_rows": null,
            "grid_gap": null,
            "max_width": null,
            "order": null,
            "_view_module_version": "1.2.0",
            "grid_template_areas": null,
            "object_position": null,
            "object_fit": null,
            "grid_auto_columns": null,
            "margin": null,
            "display": null,
            "left": null
          }
        },
        "9566a33d634f40429153cca035c7f2e8": {
          "model_module": "@jupyter-widgets/controls",
          "model_name": "FloatProgressModel",
          "state": {
            "_view_name": "ProgressView",
            "style": "IPY_MODEL_9bcfef17ed6b4087a27abca5db1fcb83",
            "_dom_classes": [],
            "description": "Downloading: 100%",
            "_model_name": "FloatProgressModel",
            "bar_style": "success",
            "max": 440473133,
            "_view_module": "@jupyter-widgets/controls",
            "_model_module_version": "1.5.0",
            "value": 440473133,
            "_view_count": null,
            "_view_module_version": "1.5.0",
            "orientation": "horizontal",
            "min": 0,
            "description_tooltip": null,
            "_model_module": "@jupyter-widgets/controls",
            "layout": "IPY_MODEL_90dcc8ae2eb842fe98fb085bd9d36e03"
          }
        },
        "56635b11ebe342039f0ac07a5c0267a6": {
          "model_module": "@jupyter-widgets/controls",
          "model_name": "HTMLModel",
          "state": {
            "_view_name": "HTMLView",
            "style": "IPY_MODEL_8b04a816bd684c12bb9309a3db93345e",
            "_dom_classes": [],
            "description": "",
            "_model_name": "HTMLModel",
            "placeholder": "​",
            "_view_module": "@jupyter-widgets/controls",
            "_model_module_version": "1.5.0",
            "value": " 440M/440M [00:09&lt;00:00, 46.1MB/s]",
            "_view_count": null,
            "_view_module_version": "1.5.0",
            "description_tooltip": null,
            "_model_module": "@jupyter-widgets/controls",
            "layout": "IPY_MODEL_e16da13f4bc3499b8e9acb9234121e18"
          }
        },
        "9bcfef17ed6b4087a27abca5db1fcb83": {
          "model_module": "@jupyter-widgets/controls",
          "model_name": "ProgressStyleModel",
          "state": {
            "_view_name": "StyleView",
            "_model_name": "ProgressStyleModel",
            "description_width": "initial",
            "_view_module": "@jupyter-widgets/base",
            "_model_module_version": "1.5.0",
            "_view_count": null,
            "_view_module_version": "1.2.0",
            "bar_color": null,
            "_model_module": "@jupyter-widgets/controls"
          }
        },
        "90dcc8ae2eb842fe98fb085bd9d36e03": {
          "model_module": "@jupyter-widgets/base",
          "model_name": "LayoutModel",
          "state": {
            "_view_name": "LayoutView",
            "grid_template_rows": null,
            "right": null,
            "justify_content": null,
            "_view_module": "@jupyter-widgets/base",
            "overflow": null,
            "_model_module_version": "1.2.0",
            "_view_count": null,
            "flex_flow": null,
            "width": null,
            "min_width": null,
            "border": null,
            "align_items": null,
            "bottom": null,
            "_model_module": "@jupyter-widgets/base",
            "top": null,
            "grid_column": null,
            "overflow_y": null,
            "overflow_x": null,
            "grid_auto_flow": null,
            "grid_area": null,
            "grid_template_columns": null,
            "flex": null,
            "_model_name": "LayoutModel",
            "justify_items": null,
            "grid_row": null,
            "max_height": null,
            "align_content": null,
            "visibility": null,
            "align_self": null,
            "height": null,
            "min_height": null,
            "padding": null,
            "grid_auto_rows": null,
            "grid_gap": null,
            "max_width": null,
            "order": null,
            "_view_module_version": "1.2.0",
            "grid_template_areas": null,
            "object_position": null,
            "object_fit": null,
            "grid_auto_columns": null,
            "margin": null,
            "display": null,
            "left": null
          }
        },
        "8b04a816bd684c12bb9309a3db93345e": {
          "model_module": "@jupyter-widgets/controls",
          "model_name": "DescriptionStyleModel",
          "state": {
            "_view_name": "StyleView",
            "_model_name": "DescriptionStyleModel",
            "description_width": "",
            "_view_module": "@jupyter-widgets/base",
            "_model_module_version": "1.5.0",
            "_view_count": null,
            "_view_module_version": "1.2.0",
            "_model_module": "@jupyter-widgets/controls"
          }
        },
        "e16da13f4bc3499b8e9acb9234121e18": {
          "model_module": "@jupyter-widgets/base",
          "model_name": "LayoutModel",
          "state": {
            "_view_name": "LayoutView",
            "grid_template_rows": null,
            "right": null,
            "justify_content": null,
            "_view_module": "@jupyter-widgets/base",
            "overflow": null,
            "_model_module_version": "1.2.0",
            "_view_count": null,
            "flex_flow": null,
            "width": null,
            "min_width": null,
            "border": null,
            "align_items": null,
            "bottom": null,
            "_model_module": "@jupyter-widgets/base",
            "top": null,
            "grid_column": null,
            "overflow_y": null,
            "overflow_x": null,
            "grid_auto_flow": null,
            "grid_area": null,
            "grid_template_columns": null,
            "flex": null,
            "_model_name": "LayoutModel",
            "justify_items": null,
            "grid_row": null,
            "max_height": null,
            "align_content": null,
            "visibility": null,
            "align_self": null,
            "height": null,
            "min_height": null,
            "padding": null,
            "grid_auto_rows": null,
            "grid_gap": null,
            "max_width": null,
            "order": null,
            "_view_module_version": "1.2.0",
            "grid_template_areas": null,
            "object_position": null,
            "object_fit": null,
            "grid_auto_columns": null,
            "margin": null,
            "display": null,
            "left": null
          }
        }
      }
    }
  },
  "cells": [
    {
      "cell_type": "markdown",
      "metadata": {
        "id": "view-in-github",
        "colab_type": "text"
      },
      "source": [
        "<a href=\"https://colab.research.google.com/github/Devansh-0/DBpedia-BERT-Analysis/blob/main/DBpedia_3_0.ipynb\" target=\"_parent\"><img src=\"https://colab.research.google.com/assets/colab-badge.svg\" alt=\"Open In Colab\"/></a>"
      ]
    },
    {
      "cell_type": "markdown",
      "metadata": {
        "id": "5wqgILncMxtS"
      },
      "source": [
        "# DBpedia Exploratory Data Analysis using BERT\n",
        "\n",
        "---\n",
        "\n",
        "This EDA is based on the DBpedia data. The test and train data contain 70,000 and 560,000 data unique values respectrively.<br />\n",
        "\n",
        " Due to the huge size of the dataset and the limited hardware capabilities, this analysis is performed on a portion of the entire dataset.  <br /> \n",
        "The dataset consists of 14 classes. All the identities/ names are categorized into one of these 14 classes. (for eg: Building, Vehicle, Place etc.)\n",
        "For training, 25,000 values were considered, distributed among 5 classes equally. The test was done on 500 values (100 each).  <BR />\n",
        "\n",
        "The time taken by the model to train was around 1 hour 15 minutes.\n",
        "\n",
        "\n",
        "\n",
        "\n",
        "\n"
      ]
    },
    {
      "cell_type": "markdown",
      "metadata": {
        "id": "WmH-Su3cDoby"
      },
      "source": [
        "![bert-google.png](data:image/png;base64,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)"
      ]
    },
    {
      "cell_type": "markdown",
      "metadata": {
        "id": "LpERwz3vOyEJ"
      },
      "source": [
        "## Setting up the Environment\n",
        "For the analysis to execute correctly, a few steps were required to ensure the environment settings were favorable.\n",
        "\n",
        "\n",
        "\n",
        "*   The Runtime was reset to GPU, since the training will be done on a large neural network. \n",
        "*   Prerequisite dependencies were installed on the Colab instance.\n",
        "\n",
        "\n",
        "\n",
        "> After setting the Runtime to GPU, I checked which version was assigned and whether it was fuctional or not. For the execution, I was given the Tesla T4 by Nvidia. Important libraries were then installed and the tenseorflow functionality was utilized.\n",
        "\n",
        "\n",
        "\n",
        "\n",
        "\n",
        "\n",
        "\n",
        "\n",
        "\n",
        "\n"
      ]
    },
    {
      "cell_type": "code",
      "metadata": {
        "id": "FtK8A_tenBc7"
      },
      "source": [
        "import os\n",
        "os.environ['CUDA_LAUNCH_BLOCKING'] = \"1\""
      ],
      "execution_count": null,
      "outputs": []
    },
    {
      "cell_type": "code",
      "metadata": {
        "colab": {
          "base_uri": "https://localhost:8080/"
        },
        "id": "HBuL-Vvarfuf",
        "outputId": "eea4e4c8-06c5-44b0-bcc3-02aeed916acb"
      },
      "source": [
        "import tensorflow as tf\n",
        "\n",
        "# Get the GPU device name.\n",
        "device_name = tf.test.gpu_device_name()\n",
        "\n",
        "# The device name should look like the following:\n",
        "if device_name == '/device:GPU:0':\n",
        "    print('Found GPU at: {}'.format(device_name))\n",
        "else:\n",
        "    raise SystemError('GPU device not found')"
      ],
      "execution_count": null,
      "outputs": [
        {
          "output_type": "stream",
          "text": [
            "Found GPU at: /device:GPU:0\n"
          ],
          "name": "stdout"
        }
      ]
    },
    {
      "cell_type": "code",
      "metadata": {
        "id": "Jh-W11L_r33o",
        "colab": {
          "base_uri": "https://localhost:8080/"
        },
        "outputId": "6441d01a-6608-47d5-aa3a-dd3f1ee8cdbb"
      },
      "source": [
        "import torch\n",
        "\n",
        "# If there's a GPU available...\n",
        "if torch.cuda.is_available():    \n",
        "\n",
        "    # Tell PyTorch to use the GPU.    \n",
        "    device = torch.device(\"cuda\")\n",
        "\n",
        "    print('There are %d GPU(s) available.' % torch.cuda.device_count())\n",
        "\n",
        "    print('We will use the GPU:', torch.cuda.get_device_name(0))\n",
        "\n",
        "# If not...\n",
        "else:\n",
        "    print('No GPU available, using the CPU instead.')\n",
        "    device = torch.device(\"cpu\")"
      ],
      "execution_count": null,
      "outputs": [
        {
          "output_type": "stream",
          "text": [
            "There are 1 GPU(s) available.\n",
            "We will use the GPU: Tesla T4\n"
          ],
          "name": "stdout"
        }
      ]
    },
    {
      "cell_type": "code",
      "metadata": {
        "id": "XPa63kzMr7IV",
        "colab": {
          "base_uri": "https://localhost:8080/"
        },
        "outputId": "91ecc65b-25dd-4ba2-93bf-6988a3dc0760"
      },
      "source": [
        "!pip install transformers"
      ],
      "execution_count": null,
      "outputs": [
        {
          "output_type": "stream",
          "text": [
            "Requirement already satisfied: transformers in /usr/local/lib/python3.7/dist-packages (4.9.1)\n",
            "Requirement already satisfied: tokenizers<0.11,>=0.10.1 in /usr/local/lib/python3.7/dist-packages (from transformers) (0.10.3)\n",
            "Requirement already satisfied: tqdm>=4.27 in /usr/local/lib/python3.7/dist-packages (from transformers) (4.41.1)\n",
            "Requirement already satisfied: requests in /usr/local/lib/python3.7/dist-packages (from transformers) (2.23.0)\n",
            "Requirement already satisfied: huggingface-hub==0.0.12 in /usr/local/lib/python3.7/dist-packages (from transformers) (0.0.12)\n",
            "Requirement already satisfied: sacremoses in /usr/local/lib/python3.7/dist-packages (from transformers) (0.0.45)\n",
            "Requirement already satisfied: packaging in /usr/local/lib/python3.7/dist-packages (from transformers) (21.0)\n",
            "Requirement already satisfied: pyyaml>=5.1 in /usr/local/lib/python3.7/dist-packages (from transformers) (5.4.1)\n",
            "Requirement already satisfied: importlib-metadata in /usr/local/lib/python3.7/dist-packages (from transformers) (4.6.1)\n",
            "Requirement already satisfied: numpy>=1.17 in /usr/local/lib/python3.7/dist-packages (from transformers) (1.19.5)\n",
            "Requirement already satisfied: filelock in /usr/local/lib/python3.7/dist-packages (from transformers) (3.0.12)\n",
            "Requirement already satisfied: regex!=2019.12.17 in /usr/local/lib/python3.7/dist-packages (from transformers) (2019.12.20)\n",
            "Requirement already satisfied: typing-extensions in /usr/local/lib/python3.7/dist-packages (from huggingface-hub==0.0.12->transformers) (3.7.4.3)\n",
            "Requirement already satisfied: pyparsing>=2.0.2 in /usr/local/lib/python3.7/dist-packages (from packaging->transformers) (2.4.7)\n",
            "Requirement already satisfied: zipp>=0.5 in /usr/local/lib/python3.7/dist-packages (from importlib-metadata->transformers) (3.5.0)\n",
            "Requirement already satisfied: chardet<4,>=3.0.2 in /usr/local/lib/python3.7/dist-packages (from requests->transformers) (3.0.4)\n",
            "Requirement already satisfied: idna<3,>=2.5 in /usr/local/lib/python3.7/dist-packages (from requests->transformers) (2.10)\n",
            "Requirement already satisfied: urllib3!=1.25.0,!=1.25.1,<1.26,>=1.21.1 in /usr/local/lib/python3.7/dist-packages (from requests->transformers) (1.24.3)\n",
            "Requirement already satisfied: certifi>=2017.4.17 in /usr/local/lib/python3.7/dist-packages (from requests->transformers) (2021.5.30)\n",
            "Requirement already satisfied: joblib in /usr/local/lib/python3.7/dist-packages (from sacremoses->transformers) (1.0.1)\n",
            "Requirement already satisfied: click in /usr/local/lib/python3.7/dist-packages (from sacremoses->transformers) (7.1.2)\n",
            "Requirement already satisfied: six in /usr/local/lib/python3.7/dist-packages (from sacremoses->transformers) (1.15.0)\n"
          ],
          "name": "stdout"
        }
      ]
    },
    {
      "cell_type": "markdown",
      "metadata": {
        "id": "4ukfxggRSpD6"
      },
      "source": [
        "## Accessing the Data\n",
        "\n",
        "After setting up the environment, I then downloaded the DBpedia Dataset from the link provided. The files were saved on Google Drive for easy access. Link to the files used is provided: \n",
        "\n",
        "\n",
        "Due to the enormous size of the dataset, a small portion of it was utilized. To make the work easier, random 100 samples of each class were chosen from the five classes and moved to a separate CSV file for testing purposes. \n",
        "\n",
        "Primarily, the work was done on the description and the class type. All the values were then encoded manually, since the classes were not that diverse."
      ]
    },
    {
      "cell_type": "code",
      "metadata": {
        "id": "gxrC5HBPsGXf",
        "colab": {
          "base_uri": "https://localhost:8080/"
        },
        "outputId": "fc635a10-a361-4231-de4f-310f3cb002e5"
      },
      "source": [
        "import pandas as pd\n",
        "\n",
        "df_csv = pd.read_csv('/content/drive/MyDrive/Colab Notebooks/ML Datasets/DBpedia.csv/dbpedia_csv/test.csv')\n",
        "\n",
        "df_csv = df_csv.drop(labels=range(20000, 25000), axis=0)\n",
        "df_csv = df_csv.drop(labels=range(30000, 70000), axis=0)\n",
        "\n",
        "print('Number of training sentences: {:,}\\n'.format(df_csv.shape[0]))\n",
        "df_csv.loc[df_csv.ClassType == 6].sample(4)[['Description', 'ClassType']]\n",
        "\n",
        "print(\"\\n The Unique Values are:\\n \", df_csv[\"ClassType\"].value_counts())\n",
        "\n",
        "print(\"Encoding the ClassType, We get: \")\n",
        "\n",
        "cleanup_nums = {\"ClassType\":     {1: 0, 2: 1, 3:2, 4:3, 6:4}}\n",
        "df_csv = df_csv.replace(cleanup_nums)\n",
        "\n",
        "print(df_csv.head())\n",
        "\n",
        "\n",
        "description = df_csv.Description.values\n",
        "class_type = df_csv.ClassType.values\n",
        "\n"
      ],
      "execution_count": null,
      "outputs": [
        {
          "output_type": "stream",
          "text": [
            "Number of training sentences: 25,000\n",
            "\n",
            "\n",
            " The Unique Values are:\n",
            "  6    5000\n",
            "4    5000\n",
            "3    5000\n",
            "2    5000\n",
            "1    5000\n",
            "Name: ClassType, dtype: int64\n",
            "Encoding the ClassType, We get: \n",
            "   ClassType  ...                                        Description\n",
            "0          0  ...   TY KU /taɪkuː/ is an American alcoholic bever...\n",
            "1          0  ...   OddLot Entertainment founded in 2001 by longt...\n",
            "2          0  ...   Henkel AG & Company KGaA operates worldwide w...\n",
            "3          0  ...   The GOAT Store (Games Of All Type Store) LLC ...\n",
            "4          0  ...   RagWing Aircraft Designs (also called the Rag...\n",
            "\n",
            "[5 rows x 3 columns]\n"
          ],
          "name": "stdout"
        }
      ]
    },
    {
      "cell_type": "code",
      "metadata": {
        "colab": {
          "base_uri": "https://localhost:8080/"
        },
        "id": "bqGdQhtWYezM",
        "outputId": "1422a3cf-91eb-40dd-cb22-e84c03375366"
      },
      "source": [
        "from google.colab import drive\n",
        "drive.mount('/content/drive')"
      ],
      "execution_count": null,
      "outputs": [
        {
          "output_type": "stream",
          "text": [
            "Drive already mounted at /content/drive; to attempt to forcibly remount, call drive.mount(\"/content/drive\", force_remount=True).\n"
          ],
          "name": "stdout"
        }
      ]
    },
    {
      "cell_type": "markdown",
      "metadata": {
        "id": "L9oKFEZIVGMJ"
      },
      "source": [
        "## Tokenization Process\n",
        "To feed our text to BERT, it must be split into tokens, and then these tokens must be mapped to their index in the tokenizer vocabulary. "
      ]
    },
    {
      "cell_type": "code",
      "metadata": {
        "id": "PkXCJ_YaZwdM",
        "colab": {
          "base_uri": "https://localhost:8080/"
        },
        "outputId": "69d90990-0fad-4f41-fb4d-5d96789a814f"
      },
      "source": [
        "from transformers import BertTokenizer\n",
        "\n",
        "# Load the BERT tokenizer.\n",
        "print('Loading BERT tokenizer...')\n",
        "tokenizer = BertTokenizer.from_pretrained('bert-base-uncased', do_lower_case=True)"
      ],
      "execution_count": null,
      "outputs": [
        {
          "output_type": "stream",
          "text": [
            "Loading BERT tokenizer...\n"
          ],
          "name": "stdout"
        }
      ]
    },
    {
      "cell_type": "code",
      "metadata": {
        "id": "sDP2HtSXZ4uX",
        "colab": {
          "base_uri": "https://localhost:8080/"
        },
        "outputId": "e2a58b39-d779-4640-e71e-c02cb1614c79"
      },
      "source": [
        "# Print the original sentence.\n",
        "print(' Original: ', description[0])\n",
        "\n",
        "# Print the sentence split into tokens.\n",
        "print('Tokenized: ', tokenizer.tokenize(description[0]))\n",
        "\n",
        "# Print the sentence mapped to token ids.\n",
        "print('Token IDs: ', tokenizer.convert_tokens_to_ids(tokenizer.tokenize(description[0])))"
      ],
      "execution_count": null,
      "outputs": [
        {
          "output_type": "stream",
          "text": [
            " Original:   TY KU /taɪkuː/ is an American alcoholic beverage company that specializes in sake and other spirits. The privately-held company was founded in 2004 and is headquartered in New York City New York. While based in New York TY KU's beverages are made in Japan through a joint venture with two sake breweries. Since 2011 TY KU's growth has extended its products into all 50 states.\n",
            "Tokenized:  ['ty', 'ku', '/', 'ta', '##ɪ', '##ku', '##ː', '/', 'is', 'an', 'american', 'alcoholic', 'beverage', 'company', 'that', 'specializes', 'in', 'sake', 'and', 'other', 'spirits', '.', 'the', 'privately', '-', 'held', 'company', 'was', 'founded', 'in', '2004', 'and', 'is', 'headquartered', 'in', 'new', 'york', 'city', 'new', 'york', '.', 'while', 'based', 'in', 'new', 'york', 'ty', 'ku', \"'\", 's', 'beverages', 'are', 'made', 'in', 'japan', 'through', 'a', 'joint', 'venture', 'with', 'two', 'sake', 'brewer', '##ies', '.', 'since', '2011', 'ty', 'ku', \"'\", 's', 'growth', 'has', 'extended', 'its', 'products', 'into', 'all', '50', 'states', '.']\n",
            "Token IDs:  [5939, 13970, 1013, 11937, 29685, 5283, 23432, 1013, 2003, 2019, 2137, 14813, 19645, 2194, 2008, 16997, 1999, 8739, 1998, 2060, 8633, 1012, 1996, 9139, 1011, 2218, 2194, 2001, 2631, 1999, 2432, 1998, 2003, 9403, 1999, 2047, 2259, 2103, 2047, 2259, 1012, 2096, 2241, 1999, 2047, 2259, 5939, 13970, 1005, 1055, 21705, 2024, 2081, 1999, 2900, 2083, 1037, 4101, 6957, 2007, 2048, 8739, 18710, 3111, 1012, 2144, 2249, 5939, 13970, 1005, 1055, 3930, 2038, 3668, 2049, 3688, 2046, 2035, 2753, 2163, 1012]\n"
          ],
          "name": "stdout"
        }
      ]
    },
    {
      "cell_type": "code",
      "metadata": {
        "id": "ZvB1R5vKbtd3",
        "colab": {
          "base_uri": "https://localhost:8080/"
        },
        "outputId": "0cb4757f-603c-48f1-f0b3-327f9333c8a9"
      },
      "source": [
        "max_len = 0\n",
        "\n",
        "# For every sentence...\n",
        "for desc in description:\n",
        "\n",
        "    # Tokenize the text and add `[CLS]` and `[SEP]` tokens.\n",
        "    input_ids = tokenizer.encode(desc, add_special_tokens=True)\n",
        "\n",
        "    # Update the maximum sentence length.\n",
        "    max_len = max(max_len, len(input_ids))\n",
        "\n",
        "print('Max sentence length: ', max_len)"
      ],
      "execution_count": null,
      "outputs": [
        {
          "output_type": "stream",
          "text": [
            "Max sentence length:  416\n"
          ],
          "name": "stdout"
        }
      ]
    },
    {
      "cell_type": "code",
      "metadata": {
        "id": "9LknEP4BcE05",
        "colab": {
          "base_uri": "https://localhost:8080/"
        },
        "outputId": "4eb4ec6f-b3de-4d56-c21c-f6a80723b4ca"
      },
      "source": [
        "# Tokenize all of the sentences and map the tokens to thier word IDs.\n",
        "input_ids = []\n",
        "attention_masks = []\n",
        "\n",
        "# For every sentence...\n",
        "for desc in description:\n",
        "    encoded_dict = tokenizer.encode_plus(\n",
        "                        desc,                      # Sentence to encode.\n",
        "                        add_special_tokens = True, # Add '[CLS]' and '[SEP]'\n",
        "                        max_length = 416,           # Pad & truncate all sentences.                             \n",
        "                        pad_to_max_length = True,\n",
        "                        return_attention_mask = True,   # Construct attn. masks.\n",
        "                        return_tensors = 'pt',     # Return pytorch tensors.\n",
        "                   )\n",
        "    \n",
        "    # Add the encoded sentence to the list.    \n",
        "    input_ids.append(encoded_dict['input_ids'])\n",
        "    \n",
        "    # And its attention mask (simply differentiates padding from non-padding).\n",
        "    attention_masks.append(encoded_dict['attention_mask'])\n",
        "\n",
        "# Convert the lists into tensors.\n",
        "input_ids = torch.cat(input_ids, dim=0)\n",
        "attention_masks = torch.cat(attention_masks, dim=0)\n",
        "class_type = torch.tensor(class_type)\n",
        "\n",
        "# Print sentence 0, now as a list of IDs.\n",
        "print('Original: ', description[0])\n",
        "print('Token IDs:', input_ids[0])"
      ],
      "execution_count": null,
      "outputs": [
        {
          "output_type": "stream",
          "text": [
            "/usr/local/lib/python3.7/dist-packages/transformers/tokenization_utils_base.py:2190: FutureWarning: The `pad_to_max_length` argument is deprecated and will be removed in a future version, use `padding=True` or `padding='longest'` to pad to the longest sequence in the batch, or use `padding='max_length'` to pad to a max length. In this case, you can give a specific length with `max_length` (e.g. `max_length=45`) or leave max_length to None to pad to the maximal input size of the model (e.g. 512 for Bert).\n",
            "  FutureWarning,\n"
          ],
          "name": "stderr"
        },
        {
          "output_type": "stream",
          "text": [
            "Original:   TY KU /taɪkuː/ is an American alcoholic beverage company that specializes in sake and other spirits. The privately-held company was founded in 2004 and is headquartered in New York City New York. While based in New York TY KU's beverages are made in Japan through a joint venture with two sake breweries. Since 2011 TY KU's growth has extended its products into all 50 states.\n",
            "Token IDs: tensor([  101,  5939, 13970,  1013, 11937, 29685,  5283, 23432,  1013,  2003,\n",
            "         2019,  2137, 14813, 19645,  2194,  2008, 16997,  1999,  8739,  1998,\n",
            "         2060,  8633,  1012,  1996,  9139,  1011,  2218,  2194,  2001,  2631,\n",
            "         1999,  2432,  1998,  2003,  9403,  1999,  2047,  2259,  2103,  2047,\n",
            "         2259,  1012,  2096,  2241,  1999,  2047,  2259,  5939, 13970,  1005,\n",
            "         1055, 21705,  2024,  2081,  1999,  2900,  2083,  1037,  4101,  6957,\n",
            "         2007,  2048,  8739, 18710,  3111,  1012,  2144,  2249,  5939, 13970,\n",
            "         1005,  1055,  3930,  2038,  3668,  2049,  3688,  2046,  2035,  2753,\n",
            "         2163,  1012,   102,     0,     0,     0,     0,     0,     0,     0,\n",
            "            0,     0,     0,     0,     0,     0,     0,     0,     0,     0,\n",
            "            0,     0,     0,     0,     0,     0,     0,     0,     0,     0,\n",
            "            0,     0,     0,     0,     0,     0,     0,     0,     0,     0,\n",
            "            0,     0,     0,     0,     0,     0,     0,     0,     0,     0,\n",
            "            0,     0,     0,     0,     0,     0,     0,     0,     0,     0,\n",
            "            0,     0,     0,     0,     0,     0,     0,     0,     0,     0,\n",
            "            0,     0,     0,     0,     0,     0,     0,     0,     0,     0,\n",
            "            0,     0,     0,     0,     0,     0,     0,     0,     0,     0,\n",
            "            0,     0,     0,     0,     0,     0,     0,     0,     0,     0,\n",
            "            0,     0,     0,     0,     0,     0,     0,     0,     0,     0,\n",
            "            0,     0,     0,     0,     0,     0,     0,     0,     0,     0,\n",
            "            0,     0,     0,     0,     0,     0,     0,     0,     0,     0,\n",
            "            0,     0,     0,     0,     0,     0,     0,     0,     0,     0,\n",
            "            0,     0,     0,     0,     0,     0,     0,     0,     0,     0,\n",
            "            0,     0,     0,     0,     0,     0,     0,     0,     0,     0,\n",
            "            0,     0,     0,     0,     0,     0,     0,     0,     0,     0,\n",
            "            0,     0,     0,     0,     0,     0,     0,     0,     0,     0,\n",
            "            0,     0,     0,     0,     0,     0,     0,     0,     0,     0,\n",
            "            0,     0,     0,     0,     0,     0,     0,     0,     0,     0,\n",
            "            0,     0,     0,     0,     0,     0,     0,     0,     0,     0,\n",
            "            0,     0,     0,     0,     0,     0,     0,     0,     0,     0,\n",
            "            0,     0,     0,     0,     0,     0,     0,     0,     0,     0,\n",
            "            0,     0,     0,     0,     0,     0,     0,     0,     0,     0,\n",
            "            0,     0,     0,     0,     0,     0,     0,     0,     0,     0,\n",
            "            0,     0,     0,     0,     0,     0,     0,     0,     0,     0,\n",
            "            0,     0,     0,     0,     0,     0,     0,     0,     0,     0,\n",
            "            0,     0,     0,     0,     0,     0,     0,     0,     0,     0,\n",
            "            0,     0,     0,     0,     0,     0,     0,     0,     0,     0,\n",
            "            0,     0,     0,     0,     0,     0,     0,     0,     0,     0,\n",
            "            0,     0,     0,     0,     0,     0,     0,     0,     0,     0,\n",
            "            0,     0,     0,     0,     0,     0,     0,     0,     0,     0,\n",
            "            0,     0,     0,     0,     0,     0,     0,     0,     0,     0,\n",
            "            0,     0,     0,     0,     0,     0])\n"
          ],
          "name": "stdout"
        },
        {
          "output_type": "stream",
          "text": [
            "/usr/local/lib/python3.7/dist-packages/ipykernel_launcher.py:25: UserWarning: To copy construct from a tensor, it is recommended to use sourceTensor.clone().detach() or sourceTensor.clone().detach().requires_grad_(True), rather than torch.tensor(sourceTensor).\n"
          ],
          "name": "stderr"
        }
      ]
    },
    {
      "cell_type": "markdown",
      "metadata": {
        "id": "yxDlBOYgVhEr"
      },
      "source": [
        "## Training and Validation Split\n",
        "The dataset will now be split for training and validation. 90% for training and the remaining 10% for validation."
      ]
    },
    {
      "cell_type": "code",
      "metadata": {
        "id": "OOQfT2Ogc7kl",
        "colab": {
          "base_uri": "https://localhost:8080/"
        },
        "outputId": "7dc10012-2fdd-4f33-a0a4-32a3f3b9d27b"
      },
      "source": [
        "from torch.utils.data import TensorDataset, random_split\n",
        "\n",
        "# Combine the training inputs into a TensorDataset.\n",
        "dataset = TensorDataset(input_ids, attention_masks, class_type)\n",
        "\n",
        "# Create a 90-10 train-validation split.\n",
        "\n",
        "# Calculate the number of samples to include in each set.\n",
        "train_size = int(0.9 * len(dataset))\n",
        "val_size = len(dataset) - train_size\n",
        "\n",
        "# Divide the dataset by randomly selecting samples.\n",
        "train_dataset, val_dataset = random_split(dataset, [train_size, val_size])\n",
        "\n",
        "print('{:>5,} training samples'.format(train_size))\n",
        "print('{:>5,} validation samples'.format(val_size))"
      ],
      "execution_count": null,
      "outputs": [
        {
          "output_type": "stream",
          "text": [
            "22,500 training samples\n",
            "2,500 validation samples\n"
          ],
          "name": "stdout"
        }
      ]
    },
    {
      "cell_type": "code",
      "metadata": {
        "id": "MvBECe1AdEYO"
      },
      "source": [
        "from torch.utils.data import DataLoader, RandomSampler, SequentialSampler\n",
        "\n",
        "# The DataLoader needs to know our batch size for training, so we specify it \n",
        "# here. For fine-tuning BERT on a specific task, the authors recommend a batch \n",
        "# size of 16 or 32.\n",
        "batch_size = 32\n",
        "\n",
        "# Create the DataLoaders for our training and validation sets.\n",
        "# We'll take training samples in random order. \n",
        "train_dataloader = DataLoader(\n",
        "            train_dataset,  # The training samples.\n",
        "            sampler = RandomSampler(train_dataset), # Select batches randomly\n",
        "            batch_size = batch_size # Trains with this batch size.\n",
        "        )\n",
        "\n",
        "# For validation the order doesn't matter, so we'll just read them sequentially.\n",
        "validation_dataloader = DataLoader(\n",
        "            val_dataset, # The validation samples.\n",
        "            sampler = SequentialSampler(val_dataset), # Pull out batches sequentially.\n",
        "            batch_size = batch_size # Evaluate with this batch size.\n",
        "        )"
      ],
      "execution_count": null,
      "outputs": []
    },
    {
      "cell_type": "markdown",
      "metadata": {
        "id": "0xKHrXemW5yj"
      },
      "source": [
        "## Training the Classification Model\n",
        "\n",
        "For this task, we first want to modify the pre-trained BERT model to give outputs for classification, and then we want to continue training the model on our dataset until that the entire model, end-to-end, is well-suited for our task. \n",
        "\n",
        "The huggingface PyTorch implementation includes a set of interfaces designed for a variety of NLP tasks. Though these interfaces are all built on top of a trained BERT model, each has different top layers and output types designed to accomodate their specific NLP task.\n",
        "\n",
        "We will use the **BertForSequenceClassification** for our classification task.\n"
      ]
    },
    {
      "cell_type": "code",
      "metadata": {
        "id": "J6GbdxuOdVlq",
        "colab": {
          "base_uri": "https://localhost:8080/",
          "height": 1000,
          "referenced_widgets": [
            "bedeab5661fb439394e48e8ad2cbf8fb",
            "8d2f1a5c9b9a48bdb97849dfb9a684aa",
            "9566a33d634f40429153cca035c7f2e8",
            "56635b11ebe342039f0ac07a5c0267a6",
            "9bcfef17ed6b4087a27abca5db1fcb83",
            "90dcc8ae2eb842fe98fb085bd9d36e03",
            "8b04a816bd684c12bb9309a3db93345e",
            "e16da13f4bc3499b8e9acb9234121e18"
          ]
        },
        "outputId": "5d275987-3072-4ae2-ce4e-77df27ddc1c8"
      },
      "source": [
        "from transformers import BertForSequenceClassification, AdamW, BertConfig\n",
        "\n",
        "# Load BertForSequenceClassification, the pretrained BERT model with a single \n",
        "# linear classification layer on top. \n",
        "model = BertForSequenceClassification.from_pretrained(\n",
        "    \"bert-base-uncased\", # Use the 12-layer BERT model, with an uncased vocab.\n",
        "    num_labels = 5, # The number of output labels--5 for binary classification.  \n",
        "    output_attentions = False, # Whether the model returns attentions weights.\n",
        "    output_hidden_states = False, # Whether the model returns all hidden-states.\n",
        ")\n",
        "\n",
        "# Tell pytorch to run this model on the GPU.\n",
        "model.cuda()"
      ],
      "execution_count": null,
      "outputs": [
        {
          "output_type": "display_data",
          "data": {
            "application/vnd.jupyter.widget-view+json": {
              "model_id": "bedeab5661fb439394e48e8ad2cbf8fb",
              "version_minor": 0,
              "version_major": 2
            },
            "text/plain": [
              "HBox(children=(FloatProgress(value=0.0, description='Downloading', max=440473133.0, style=ProgressStyle(descri…"
            ]
          },
          "metadata": {
            "tags": []
          }
        },
        {
          "output_type": "stream",
          "text": [
            "\n"
          ],
          "name": "stdout"
        },
        {
          "output_type": "stream",
          "text": [
            "Some weights of the model checkpoint at bert-base-uncased were not used when initializing BertForSequenceClassification: ['cls.seq_relationship.weight', 'cls.predictions.transform.dense.weight', 'cls.seq_relationship.bias', 'cls.predictions.transform.LayerNorm.bias', 'cls.predictions.transform.LayerNorm.weight', 'cls.predictions.transform.dense.bias', 'cls.predictions.decoder.weight', 'cls.predictions.bias']\n",
            "- This IS expected if you are initializing BertForSequenceClassification from the checkpoint of a model trained on another task or with another architecture (e.g. initializing a BertForSequenceClassification model from a BertForPreTraining model).\n",
            "- This IS NOT expected if you are initializing BertForSequenceClassification from the checkpoint of a model that you expect to be exactly identical (initializing a BertForSequenceClassification model from a BertForSequenceClassification model).\n",
            "Some weights of BertForSequenceClassification were not initialized from the model checkpoint at bert-base-uncased and are newly initialized: ['classifier.weight', 'classifier.bias']\n",
            "You should probably TRAIN this model on a down-stream task to be able to use it for predictions and inference.\n"
          ],
          "name": "stderr"
        },
        {
          "output_type": "execute_result",
          "data": {
            "text/plain": [
              "BertForSequenceClassification(\n",
              "  (bert): BertModel(\n",
              "    (embeddings): BertEmbeddings(\n",
              "      (word_embeddings): Embedding(30522, 768, padding_idx=0)\n",
              "      (position_embeddings): Embedding(512, 768)\n",
              "      (token_type_embeddings): Embedding(2, 768)\n",
              "      (LayerNorm): LayerNorm((768,), eps=1e-12, elementwise_affine=True)\n",
              "      (dropout): Dropout(p=0.1, inplace=False)\n",
              "    )\n",
              "    (encoder): BertEncoder(\n",
              "      (layer): ModuleList(\n",
              "        (0): BertLayer(\n",
              "          (attention): BertAttention(\n",
              "            (self): BertSelfAttention(\n",
              "              (query): Linear(in_features=768, out_features=768, bias=True)\n",
              "              (key): Linear(in_features=768, out_features=768, bias=True)\n",
              "              (value): Linear(in_features=768, out_features=768, bias=True)\n",
              "              (dropout): Dropout(p=0.1, inplace=False)\n",
              "            )\n",
              "            (output): BertSelfOutput(\n",
              "              (dense): Linear(in_features=768, out_features=768, bias=True)\n",
              "              (LayerNorm): LayerNorm((768,), eps=1e-12, elementwise_affine=True)\n",
              "              (dropout): Dropout(p=0.1, inplace=False)\n",
              "            )\n",
              "          )\n",
              "          (intermediate): BertIntermediate(\n",
              "            (dense): Linear(in_features=768, out_features=3072, bias=True)\n",
              "          )\n",
              "          (output): BertOutput(\n",
              "            (dense): Linear(in_features=3072, out_features=768, bias=True)\n",
              "            (LayerNorm): LayerNorm((768,), eps=1e-12, elementwise_affine=True)\n",
              "            (dropout): Dropout(p=0.1, inplace=False)\n",
              "          )\n",
              "        )\n",
              "        (1): BertLayer(\n",
              "          (attention): BertAttention(\n",
              "            (self): BertSelfAttention(\n",
              "              (query): Linear(in_features=768, out_features=768, bias=True)\n",
              "              (key): Linear(in_features=768, out_features=768, bias=True)\n",
              "              (value): Linear(in_features=768, out_features=768, bias=True)\n",
              "              (dropout): Dropout(p=0.1, inplace=False)\n",
              "            )\n",
              "            (output): BertSelfOutput(\n",
              "              (dense): Linear(in_features=768, out_features=768, bias=True)\n",
              "              (LayerNorm): LayerNorm((768,), eps=1e-12, elementwise_affine=True)\n",
              "              (dropout): Dropout(p=0.1, inplace=False)\n",
              "            )\n",
              "          )\n",
              "          (intermediate): BertIntermediate(\n",
              "            (dense): Linear(in_features=768, out_features=3072, bias=True)\n",
              "          )\n",
              "          (output): BertOutput(\n",
              "            (dense): Linear(in_features=3072, out_features=768, bias=True)\n",
              "            (LayerNorm): LayerNorm((768,), eps=1e-12, elementwise_affine=True)\n",
              "            (dropout): Dropout(p=0.1, inplace=False)\n",
              "          )\n",
              "        )\n",
              "        (2): BertLayer(\n",
              "          (attention): BertAttention(\n",
              "            (self): BertSelfAttention(\n",
              "              (query): Linear(in_features=768, out_features=768, bias=True)\n",
              "              (key): Linear(in_features=768, out_features=768, bias=True)\n",
              "              (value): Linear(in_features=768, out_features=768, bias=True)\n",
              "              (dropout): Dropout(p=0.1, inplace=False)\n",
              "            )\n",
              "            (output): BertSelfOutput(\n",
              "              (dense): Linear(in_features=768, out_features=768, bias=True)\n",
              "              (LayerNorm): LayerNorm((768,), eps=1e-12, elementwise_affine=True)\n",
              "              (dropout): Dropout(p=0.1, inplace=False)\n",
              "            )\n",
              "          )\n",
              "          (intermediate): BertIntermediate(\n",
              "            (dense): Linear(in_features=768, out_features=3072, bias=True)\n",
              "          )\n",
              "          (output): BertOutput(\n",
              "            (dense): Linear(in_features=3072, out_features=768, bias=True)\n",
              "            (LayerNorm): LayerNorm((768,), eps=1e-12, elementwise_affine=True)\n",
              "            (dropout): Dropout(p=0.1, inplace=False)\n",
              "          )\n",
              "        )\n",
              "        (3): BertLayer(\n",
              "          (attention): BertAttention(\n",
              "            (self): BertSelfAttention(\n",
              "              (query): Linear(in_features=768, out_features=768, bias=True)\n",
              "              (key): Linear(in_features=768, out_features=768, bias=True)\n",
              "              (value): Linear(in_features=768, out_features=768, bias=True)\n",
              "              (dropout): Dropout(p=0.1, inplace=False)\n",
              "            )\n",
              "            (output): BertSelfOutput(\n",
              "              (dense): Linear(in_features=768, out_features=768, bias=True)\n",
              "              (LayerNorm): LayerNorm((768,), eps=1e-12, elementwise_affine=True)\n",
              "              (dropout): Dropout(p=0.1, inplace=False)\n",
              "            )\n",
              "          )\n",
              "          (intermediate): BertIntermediate(\n",
              "            (dense): Linear(in_features=768, out_features=3072, bias=True)\n",
              "          )\n",
              "          (output): BertOutput(\n",
              "            (dense): Linear(in_features=3072, out_features=768, bias=True)\n",
              "            (LayerNorm): LayerNorm((768,), eps=1e-12, elementwise_affine=True)\n",
              "            (dropout): Dropout(p=0.1, inplace=False)\n",
              "          )\n",
              "        )\n",
              "        (4): BertLayer(\n",
              "          (attention): BertAttention(\n",
              "            (self): BertSelfAttention(\n",
              "              (query): Linear(in_features=768, out_features=768, bias=True)\n",
              "              (key): Linear(in_features=768, out_features=768, bias=True)\n",
              "              (value): Linear(in_features=768, out_features=768, bias=True)\n",
              "              (dropout): Dropout(p=0.1, inplace=False)\n",
              "            )\n",
              "            (output): BertSelfOutput(\n",
              "              (dense): Linear(in_features=768, out_features=768, bias=True)\n",
              "              (LayerNorm): LayerNorm((768,), eps=1e-12, elementwise_affine=True)\n",
              "              (dropout): Dropout(p=0.1, inplace=False)\n",
              "            )\n",
              "          )\n",
              "          (intermediate): BertIntermediate(\n",
              "            (dense): Linear(in_features=768, out_features=3072, bias=True)\n",
              "          )\n",
              "          (output): BertOutput(\n",
              "            (dense): Linear(in_features=3072, out_features=768, bias=True)\n",
              "            (LayerNorm): LayerNorm((768,), eps=1e-12, elementwise_affine=True)\n",
              "            (dropout): Dropout(p=0.1, inplace=False)\n",
              "          )\n",
              "        )\n",
              "        (5): BertLayer(\n",
              "          (attention): BertAttention(\n",
              "            (self): BertSelfAttention(\n",
              "              (query): Linear(in_features=768, out_features=768, bias=True)\n",
              "              (key): Linear(in_features=768, out_features=768, bias=True)\n",
              "              (value): Linear(in_features=768, out_features=768, bias=True)\n",
              "              (dropout): Dropout(p=0.1, inplace=False)\n",
              "            )\n",
              "            (output): BertSelfOutput(\n",
              "              (dense): Linear(in_features=768, out_features=768, bias=True)\n",
              "              (LayerNorm): LayerNorm((768,), eps=1e-12, elementwise_affine=True)\n",
              "              (dropout): Dropout(p=0.1, inplace=False)\n",
              "            )\n",
              "          )\n",
              "          (intermediate): BertIntermediate(\n",
              "            (dense): Linear(in_features=768, out_features=3072, bias=True)\n",
              "          )\n",
              "          (output): BertOutput(\n",
              "            (dense): Linear(in_features=3072, out_features=768, bias=True)\n",
              "            (LayerNorm): LayerNorm((768,), eps=1e-12, elementwise_affine=True)\n",
              "            (dropout): Dropout(p=0.1, inplace=False)\n",
              "          )\n",
              "        )\n",
              "        (6): BertLayer(\n",
              "          (attention): BertAttention(\n",
              "            (self): BertSelfAttention(\n",
              "              (query): Linear(in_features=768, out_features=768, bias=True)\n",
              "              (key): Linear(in_features=768, out_features=768, bias=True)\n",
              "              (value): Linear(in_features=768, out_features=768, bias=True)\n",
              "              (dropout): Dropout(p=0.1, inplace=False)\n",
              "            )\n",
              "            (output): BertSelfOutput(\n",
              "              (dense): Linear(in_features=768, out_features=768, bias=True)\n",
              "              (LayerNorm): LayerNorm((768,), eps=1e-12, elementwise_affine=True)\n",
              "              (dropout): Dropout(p=0.1, inplace=False)\n",
              "            )\n",
              "          )\n",
              "          (intermediate): BertIntermediate(\n",
              "            (dense): Linear(in_features=768, out_features=3072, bias=True)\n",
              "          )\n",
              "          (output): BertOutput(\n",
              "            (dense): Linear(in_features=3072, out_features=768, bias=True)\n",
              "            (LayerNorm): LayerNorm((768,), eps=1e-12, elementwise_affine=True)\n",
              "            (dropout): Dropout(p=0.1, inplace=False)\n",
              "          )\n",
              "        )\n",
              "        (7): BertLayer(\n",
              "          (attention): BertAttention(\n",
              "            (self): BertSelfAttention(\n",
              "              (query): Linear(in_features=768, out_features=768, bias=True)\n",
              "              (key): Linear(in_features=768, out_features=768, bias=True)\n",
              "              (value): Linear(in_features=768, out_features=768, bias=True)\n",
              "              (dropout): Dropout(p=0.1, inplace=False)\n",
              "            )\n",
              "            (output): BertSelfOutput(\n",
              "              (dense): Linear(in_features=768, out_features=768, bias=True)\n",
              "              (LayerNorm): LayerNorm((768,), eps=1e-12, elementwise_affine=True)\n",
              "              (dropout): Dropout(p=0.1, inplace=False)\n",
              "            )\n",
              "          )\n",
              "          (intermediate): BertIntermediate(\n",
              "            (dense): Linear(in_features=768, out_features=3072, bias=True)\n",
              "          )\n",
              "          (output): BertOutput(\n",
              "            (dense): Linear(in_features=3072, out_features=768, bias=True)\n",
              "            (LayerNorm): LayerNorm((768,), eps=1e-12, elementwise_affine=True)\n",
              "            (dropout): Dropout(p=0.1, inplace=False)\n",
              "          )\n",
              "        )\n",
              "        (8): BertLayer(\n",
              "          (attention): BertAttention(\n",
              "            (self): BertSelfAttention(\n",
              "              (query): Linear(in_features=768, out_features=768, bias=True)\n",
              "              (key): Linear(in_features=768, out_features=768, bias=True)\n",
              "              (value): Linear(in_features=768, out_features=768, bias=True)\n",
              "              (dropout): Dropout(p=0.1, inplace=False)\n",
              "            )\n",
              "            (output): BertSelfOutput(\n",
              "              (dense): Linear(in_features=768, out_features=768, bias=True)\n",
              "              (LayerNorm): LayerNorm((768,), eps=1e-12, elementwise_affine=True)\n",
              "              (dropout): Dropout(p=0.1, inplace=False)\n",
              "            )\n",
              "          )\n",
              "          (intermediate): BertIntermediate(\n",
              "            (dense): Linear(in_features=768, out_features=3072, bias=True)\n",
              "          )\n",
              "          (output): BertOutput(\n",
              "            (dense): Linear(in_features=3072, out_features=768, bias=True)\n",
              "            (LayerNorm): LayerNorm((768,), eps=1e-12, elementwise_affine=True)\n",
              "            (dropout): Dropout(p=0.1, inplace=False)\n",
              "          )\n",
              "        )\n",
              "        (9): BertLayer(\n",
              "          (attention): BertAttention(\n",
              "            (self): BertSelfAttention(\n",
              "              (query): Linear(in_features=768, out_features=768, bias=True)\n",
              "              (key): Linear(in_features=768, out_features=768, bias=True)\n",
              "              (value): Linear(in_features=768, out_features=768, bias=True)\n",
              "              (dropout): Dropout(p=0.1, inplace=False)\n",
              "            )\n",
              "            (output): BertSelfOutput(\n",
              "              (dense): Linear(in_features=768, out_features=768, bias=True)\n",
              "              (LayerNorm): LayerNorm((768,), eps=1e-12, elementwise_affine=True)\n",
              "              (dropout): Dropout(p=0.1, inplace=False)\n",
              "            )\n",
              "          )\n",
              "          (intermediate): BertIntermediate(\n",
              "            (dense): Linear(in_features=768, out_features=3072, bias=True)\n",
              "          )\n",
              "          (output): BertOutput(\n",
              "            (dense): Linear(in_features=3072, out_features=768, bias=True)\n",
              "            (LayerNorm): LayerNorm((768,), eps=1e-12, elementwise_affine=True)\n",
              "            (dropout): Dropout(p=0.1, inplace=False)\n",
              "          )\n",
              "        )\n",
              "        (10): BertLayer(\n",
              "          (attention): BertAttention(\n",
              "            (self): BertSelfAttention(\n",
              "              (query): Linear(in_features=768, out_features=768, bias=True)\n",
              "              (key): Linear(in_features=768, out_features=768, bias=True)\n",
              "              (value): Linear(in_features=768, out_features=768, bias=True)\n",
              "              (dropout): Dropout(p=0.1, inplace=False)\n",
              "            )\n",
              "            (output): BertSelfOutput(\n",
              "              (dense): Linear(in_features=768, out_features=768, bias=True)\n",
              "              (LayerNorm): LayerNorm((768,), eps=1e-12, elementwise_affine=True)\n",
              "              (dropout): Dropout(p=0.1, inplace=False)\n",
              "            )\n",
              "          )\n",
              "          (intermediate): BertIntermediate(\n",
              "            (dense): Linear(in_features=768, out_features=3072, bias=True)\n",
              "          )\n",
              "          (output): BertOutput(\n",
              "            (dense): Linear(in_features=3072, out_features=768, bias=True)\n",
              "            (LayerNorm): LayerNorm((768,), eps=1e-12, elementwise_affine=True)\n",
              "            (dropout): Dropout(p=0.1, inplace=False)\n",
              "          )\n",
              "        )\n",
              "        (11): BertLayer(\n",
              "          (attention): BertAttention(\n",
              "            (self): BertSelfAttention(\n",
              "              (query): Linear(in_features=768, out_features=768, bias=True)\n",
              "              (key): Linear(in_features=768, out_features=768, bias=True)\n",
              "              (value): Linear(in_features=768, out_features=768, bias=True)\n",
              "              (dropout): Dropout(p=0.1, inplace=False)\n",
              "            )\n",
              "            (output): BertSelfOutput(\n",
              "              (dense): Linear(in_features=768, out_features=768, bias=True)\n",
              "              (LayerNorm): LayerNorm((768,), eps=1e-12, elementwise_affine=True)\n",
              "              (dropout): Dropout(p=0.1, inplace=False)\n",
              "            )\n",
              "          )\n",
              "          (intermediate): BertIntermediate(\n",
              "            (dense): Linear(in_features=768, out_features=3072, bias=True)\n",
              "          )\n",
              "          (output): BertOutput(\n",
              "            (dense): Linear(in_features=3072, out_features=768, bias=True)\n",
              "            (LayerNorm): LayerNorm((768,), eps=1e-12, elementwise_affine=True)\n",
              "            (dropout): Dropout(p=0.1, inplace=False)\n",
              "          )\n",
              "        )\n",
              "      )\n",
              "    )\n",
              "    (pooler): BertPooler(\n",
              "      (dense): Linear(in_features=768, out_features=768, bias=True)\n",
              "      (activation): Tanh()\n",
              "    )\n",
              "  )\n",
              "  (dropout): Dropout(p=0.1, inplace=False)\n",
              "  (classifier): Linear(in_features=768, out_features=5, bias=True)\n",
              ")"
            ]
          },
          "metadata": {
            "tags": []
          },
          "execution_count": 16
        }
      ]
    },
    {
      "cell_type": "code",
      "metadata": {
        "id": "YCDkziS-dfex",
        "colab": {
          "base_uri": "https://localhost:8080/"
        },
        "outputId": "67d64e87-86fa-43db-ae31-b9b9819fad24"
      },
      "source": [
        "# Get all of the model's parameters as a list of tuples.\n",
        "params = list(model.named_parameters())\n",
        "\n",
        "print('The BERT model has {:} different named parameters.\\n'.format(len(params)))\n",
        "\n",
        "print('==== Embedding Layer ====\\n')\n",
        "\n",
        "for p in params[0:5]:\n",
        "    print(\"{:<55} {:>12}\".format(p[0], str(tuple(p[1].size()))))\n",
        "\n",
        "print('\\n==== First Transformer ====\\n')\n",
        "\n",
        "for p in params[5:21]:\n",
        "    print(\"{:<55} {:>12}\".format(p[0], str(tuple(p[1].size()))))\n",
        "\n",
        "print('\\n==== Output Layer ====\\n')\n",
        "\n",
        "for p in params[-4:]:\n",
        "    print(\"{:<55} {:>12}\".format(p[0], str(tuple(p[1].size()))))"
      ],
      "execution_count": null,
      "outputs": [
        {
          "output_type": "stream",
          "text": [
            "The BERT model has 201 different named parameters.\n",
            "\n",
            "==== Embedding Layer ====\n",
            "\n",
            "bert.embeddings.word_embeddings.weight                  (30522, 768)\n",
            "bert.embeddings.position_embeddings.weight                (512, 768)\n",
            "bert.embeddings.token_type_embeddings.weight                (2, 768)\n",
            "bert.embeddings.LayerNorm.weight                              (768,)\n",
            "bert.embeddings.LayerNorm.bias                                (768,)\n",
            "\n",
            "==== First Transformer ====\n",
            "\n",
            "bert.encoder.layer.0.attention.self.query.weight          (768, 768)\n",
            "bert.encoder.layer.0.attention.self.query.bias                (768,)\n",
            "bert.encoder.layer.0.attention.self.key.weight            (768, 768)\n",
            "bert.encoder.layer.0.attention.self.key.bias                  (768,)\n",
            "bert.encoder.layer.0.attention.self.value.weight          (768, 768)\n",
            "bert.encoder.layer.0.attention.self.value.bias                (768,)\n",
            "bert.encoder.layer.0.attention.output.dense.weight        (768, 768)\n",
            "bert.encoder.layer.0.attention.output.dense.bias              (768,)\n",
            "bert.encoder.layer.0.attention.output.LayerNorm.weight        (768,)\n",
            "bert.encoder.layer.0.attention.output.LayerNorm.bias          (768,)\n",
            "bert.encoder.layer.0.intermediate.dense.weight           (3072, 768)\n",
            "bert.encoder.layer.0.intermediate.dense.bias                 (3072,)\n",
            "bert.encoder.layer.0.output.dense.weight                 (768, 3072)\n",
            "bert.encoder.layer.0.output.dense.bias                        (768,)\n",
            "bert.encoder.layer.0.output.LayerNorm.weight                  (768,)\n",
            "bert.encoder.layer.0.output.LayerNorm.bias                    (768,)\n",
            "\n",
            "==== Output Layer ====\n",
            "\n",
            "bert.pooler.dense.weight                                  (768, 768)\n",
            "bert.pooler.dense.bias                                        (768,)\n",
            "classifier.weight                                           (5, 768)\n",
            "classifier.bias                                                 (5,)\n"
          ],
          "name": "stdout"
        }
      ]
    },
    {
      "cell_type": "code",
      "metadata": {
        "id": "M5144QiFdznd"
      },
      "source": [
        "# Note: AdamW is a class from the huggingface library (as opposed to pytorch) \n",
        "optimizer = AdamW(model.parameters(),\n",
        "                  lr = 2e-5, # args.learning_rate - default is 5e-5, our notebook had 2e-5\n",
        "                  eps = 1e-8 # args.adam_epsilon  - default is 1e-8.\n",
        "                )\n"
      ],
      "execution_count": null,
      "outputs": []
    },
    {
      "cell_type": "code",
      "metadata": {
        "id": "bbxKzmecIzGJ"
      },
      "source": [
        "from transformers import get_linear_schedule_with_warmup\n",
        "\n",
        "# Number of training epochs. The BERT authors recommend between 2 and 4. \n",
        "# We chose to run for 4.\n",
        "epochs = 4\n",
        "\n",
        "# Total number of training steps is [number of batches] x [number of epochs]. \n",
        "# (Note that this is not the same as the number of training samples).\n",
        "total_steps = len(train_dataloader) * epochs\n",
        "\n",
        "# Create the learning rate scheduler.\n",
        "scheduler = get_linear_schedule_with_warmup(optimizer, \n",
        "                                            num_warmup_steps = 0, # Default value in run_glue.py\n",
        "                                            num_training_steps = total_steps)"
      ],
      "execution_count": null,
      "outputs": []
    },
    {
      "cell_type": "code",
      "metadata": {
        "id": "FlT6MfqNIzq5"
      },
      "source": [
        "import numpy as np\n",
        "\n",
        "# Function to calculate the accuracy of our predictions vs labels\n",
        "def flat_accuracy(preds, labels):\n",
        "    pred_flat = np.argmax(preds, axis=1).flatten()\n",
        "    labels_flat = labels.flatten()\n",
        "    return np.sum(pred_flat == labels_flat) / len(labels_flat)"
      ],
      "execution_count": null,
      "outputs": []
    },
    {
      "cell_type": "code",
      "metadata": {
        "id": "rUsZbl-TI3jt"
      },
      "source": [
        "import time\n",
        "import datetime\n",
        "\n",
        "def format_time(elapsed):\n",
        " \n",
        "    # Round to the nearest second.\n",
        "    elapsed_rounded = int(round((elapsed)))\n",
        "    \n",
        "    # Format as hh:mm:ss\n",
        "    return str(datetime.timedelta(seconds=elapsed_rounded))\n"
      ],
      "execution_count": null,
      "outputs": []
    },
    {
      "cell_type": "code",
      "metadata": {
        "id": "1jbdbR8TI8Af",
        "colab": {
          "base_uri": "https://localhost:8080/"
        },
        "outputId": "42e30e1f-ca43-4bd9-ecc0-2de9c097d27b"
      },
      "source": [
        "import os\n",
        "os.environ['CUDA_LAUNCH_BLOCKING'] = \"1\"\n",
        "import random\n",
        "import numpy as np\n",
        "\n",
        "# Set the seed value all over the place to make this reproducible.\n",
        "seed_val = 42\n",
        "\n",
        "random.seed(seed_val)\n",
        "np.random.seed(seed_val)\n",
        "torch.manual_seed(seed_val)\n",
        "torch.cuda.manual_seed_all(seed_val)\n",
        "\n",
        "# We'll store a number of quantities such as training and validation loss, \n",
        "# validation accuracy, and timings.\n",
        "training_stats = []\n",
        "\n",
        "# Measure the total training time for the whole run.\n",
        "total_t0 = time.time()\n",
        "\n",
        "# For each epoch...\n",
        "for epoch_i in range(0, epochs):\n",
        "    \n",
        "\n",
        "    print(\"\")\n",
        "    print('======== Epoch {:} / {:} ========'.format(epoch_i + 1, epochs))\n",
        "    print('Training...')\n",
        "\n",
        "    # Measure how long the training epoch takes.\n",
        "    t0 = time.time()\n",
        "\n",
        "    # Reset the total loss for this epoch.\n",
        "    total_train_loss = 0\n",
        "\n",
        "    model.train()\n",
        "\n",
        "    # For each batch of training data...\n",
        "    for step, batch in enumerate(train_dataloader):\n",
        "\n",
        "        # Progress update every 40 batches.\n",
        "        if step % 40 == 0 and not step == 0:\n",
        "            # Calculate elapsed time in minutes.\n",
        "            elapsed = format_time(time.time() - t0)\n",
        "            \n",
        "            # Report progress.\n",
        "            print('  Batch {:>5,}  of  {:>5,}.    Elapsed: {:}.'.format(step, len(train_dataloader), elapsed))\n",
        "\n",
        "\n",
        "        b_input_ids = batch[0].to(device)\n",
        "        b_input_mask = batch[1].to(device)\n",
        "        b_labels = batch[2].to(device)\n",
        "\n",
        "   \n",
        "        model.zero_grad()        \n",
        "\n",
        "        result = model(b_input_ids, \n",
        "                       token_type_ids=None, \n",
        "                       attention_mask=b_input_mask, \n",
        "                       labels=b_labels,\n",
        "                       return_dict=True)\n",
        "\n",
        "        loss = result.loss\n",
        "        logits = result.logits\n",
        "\n",
        "        total_train_loss += loss.item()\n",
        "\n",
        "        # Perform a backward pass to calculate the gradients.\n",
        "        loss.backward()\n",
        "\n",
        "        # Clip the norm of the gradients to 1.0.\n",
        "        # This is to help prevent the \"exploding gradients\" problem.\n",
        "        torch.nn.utils.clip_grad_norm_(model.parameters(), 1.0)\n",
        "\n",
        "        # Update parameters and take a step using the computed gradient.\n",
        "        # The optimizer dictates the \"update rule\"--how the parameters are\n",
        "        # modified based on their gradients, the learning rate, etc.\n",
        "        optimizer.step()\n",
        "\n",
        "        # Update the learning rate.\n",
        "        scheduler.step()\n",
        "\n",
        "    # Calculate the average loss over all of the batches.\n",
        "    avg_train_loss = total_train_loss / len(train_dataloader)            \n",
        "    \n",
        "    # Measure how long this epoch took.\n",
        "    training_time = format_time(time.time() - t0)\n",
        "\n",
        "    print(\"\")\n",
        "    print(\"  Average training loss: {0:.2f}\".format(avg_train_loss))\n",
        "    print(\"  Training epcoh took: {:}\".format(training_time))\n",
        "    \n",
        "    # VALIDATION\n",
        "\n",
        "    print(\"\")\n",
        "    print(\"Running Validation...\")\n",
        "\n",
        "    t0 = time.time()\n",
        "\n",
        "    # Put the model in evaluation mode--the dropout layers behave differently\n",
        "    # during evaluation.\n",
        "    model.eval()\n",
        "\n",
        "    # Tracking variables \n",
        "    total_eval_accuracy = 0\n",
        "    total_eval_loss = 0\n",
        "    nb_eval_steps = 0\n",
        "\n",
        "    # Evaluate data for one epoch\n",
        "    for batch in validation_dataloader:\n",
        "        \n",
        "        b_input_ids = batch[0].to(device)\n",
        "        b_input_mask = batch[1].to(device)\n",
        "        b_labels = batch[2].to(device)\n",
        "        \n",
        "        # Tell pytorch not to bother with constructing the compute graph during\n",
        "        # the forward pass, since this is only needed for backprop (training).\n",
        "        with torch.no_grad():        \n",
        "\n",
        "            # Forward pass, calculate logit predictions.\n",
        "            # token_type_ids is the same as the \"segment ids\", which \n",
        "            # differentiates sentence 1 and 2 in 2-sentence tasks.\n",
        "            result = model(b_input_ids, \n",
        "                           token_type_ids=None, \n",
        "                           attention_mask=b_input_mask,\n",
        "                           labels=b_labels,\n",
        "                           return_dict=True)\n",
        "\n",
        "        # Get the loss and \"logits\" output by the model. The \"logits\" are the \n",
        "        # output values prior to applying an activation function like the \n",
        "        # softmax.\n",
        "        loss = result.loss\n",
        "        logits = result.logits\n",
        "            \n",
        "        # Accumulate the validation loss.\n",
        "        total_eval_loss += loss.item()\n",
        "\n",
        "        # Move logits and labels to CPU\n",
        "        logits = logits.detach().cpu().numpy()\n",
        "        label_ids = b_labels.to('cpu').numpy()\n",
        "\n",
        "        # Calculate the accuracy for this batch of test sentences, and\n",
        "        # accumulate it over all batches.\n",
        "        total_eval_accuracy += flat_accuracy(logits, label_ids)\n",
        "        \n",
        "\n",
        "    # Report the final accuracy for this validation run.\n",
        "    avg_val_accuracy = total_eval_accuracy / len(validation_dataloader)\n",
        "    print(\"  Accuracy: {0:.2f}\".format(avg_val_accuracy))\n",
        "\n",
        "    # Calculate the average loss over all of the batches.\n",
        "    avg_val_loss = total_eval_loss / len(validation_dataloader)\n",
        "    \n",
        "    # Measure how long the validation run took.\n",
        "    validation_time = format_time(time.time() - t0)\n",
        "    \n",
        "    print(\"  Validation Loss: {0:.2f}\".format(avg_val_loss))\n",
        "    print(\"  Validation took: {:}\".format(validation_time))\n",
        "\n",
        "    # Record all statistics from this epoch.\n",
        "    training_stats.append(\n",
        "        {\n",
        "            'epoch': epoch_i + 1,\n",
        "            'Training Loss': avg_train_loss,\n",
        "            'Valid. Loss': avg_val_loss,\n",
        "            'Valid. Accur.': avg_val_accuracy,\n",
        "            'Training Time': training_time,\n",
        "            'Validation Time': validation_time\n",
        "        }\n",
        "    )\n",
        "\n",
        "print(\"\")\n",
        "print(\"Training complete!\")\n",
        "\n",
        "print(\"Total training took {:} (h:mm:ss)\".format(format_time(time.time()-total_t0)))"
      ],
      "execution_count": null,
      "outputs": [
        {
          "output_type": "stream",
          "text": [
            "\n",
            "======== Epoch 1 / 4 ========\n",
            "Training...\n",
            "  Batch    40  of    704.    Elapsed: 0:00:55.\n",
            "  Batch    80  of    704.    Elapsed: 0:01:52.\n",
            "  Batch   120  of    704.    Elapsed: 0:02:49.\n",
            "  Batch   160  of    704.    Elapsed: 0:03:45.\n",
            "  Batch   200  of    704.    Elapsed: 0:04:42.\n",
            "  Batch   240  of    704.    Elapsed: 0:05:38.\n",
            "  Batch   280  of    704.    Elapsed: 0:06:35.\n",
            "  Batch   320  of    704.    Elapsed: 0:07:31.\n",
            "  Batch   360  of    704.    Elapsed: 0:08:28.\n",
            "  Batch   400  of    704.    Elapsed: 0:09:25.\n",
            "  Batch   440  of    704.    Elapsed: 0:10:21.\n",
            "  Batch   480  of    704.    Elapsed: 0:11:18.\n",
            "  Batch   520  of    704.    Elapsed: 0:12:14.\n",
            "  Batch   560  of    704.    Elapsed: 0:13:11.\n",
            "  Batch   600  of    704.    Elapsed: 0:14:07.\n",
            "  Batch   640  of    704.    Elapsed: 0:15:04.\n",
            "  Batch   680  of    704.    Elapsed: 0:16:00.\n",
            "\n",
            "  Average training loss: 0.10\n",
            "  Training epcoh took: 0:16:33\n",
            "\n",
            "Running Validation...\n",
            "  Accuracy: 0.99\n",
            "  Validation Loss: 0.03\n",
            "  Validation took: 0:00:39\n",
            "\n",
            "======== Epoch 2 / 4 ========\n",
            "Training...\n",
            "  Batch    40  of    704.    Elapsed: 0:00:57.\n",
            "  Batch    80  of    704.    Elapsed: 0:01:53.\n",
            "  Batch   120  of    704.    Elapsed: 0:02:50.\n",
            "  Batch   160  of    704.    Elapsed: 0:03:46.\n",
            "  Batch   200  of    704.    Elapsed: 0:04:43.\n",
            "  Batch   240  of    704.    Elapsed: 0:05:39.\n",
            "  Batch   280  of    704.    Elapsed: 0:06:36.\n",
            "  Batch   320  of    704.    Elapsed: 0:07:33.\n",
            "  Batch   360  of    704.    Elapsed: 0:08:29.\n",
            "  Batch   400  of    704.    Elapsed: 0:09:26.\n",
            "  Batch   440  of    704.    Elapsed: 0:10:22.\n",
            "  Batch   480  of    704.    Elapsed: 0:11:19.\n",
            "  Batch   520  of    704.    Elapsed: 0:12:16.\n",
            "  Batch   560  of    704.    Elapsed: 0:13:12.\n",
            "  Batch   600  of    704.    Elapsed: 0:14:09.\n",
            "  Batch   640  of    704.    Elapsed: 0:15:05.\n",
            "  Batch   680  of    704.    Elapsed: 0:16:02.\n",
            "\n",
            "  Average training loss: 0.01\n",
            "  Training epcoh took: 0:16:35\n",
            "\n",
            "Running Validation...\n",
            "  Accuracy: 0.99\n",
            "  Validation Loss: 0.03\n",
            "  Validation took: 0:00:39\n",
            "\n",
            "======== Epoch 3 / 4 ========\n",
            "Training...\n",
            "  Batch    40  of    704.    Elapsed: 0:00:57.\n",
            "  Batch    80  of    704.    Elapsed: 0:01:53.\n",
            "  Batch   120  of    704.    Elapsed: 0:02:50.\n",
            "  Batch   160  of    704.    Elapsed: 0:03:46.\n",
            "  Batch   200  of    704.    Elapsed: 0:04:43.\n",
            "  Batch   240  of    704.    Elapsed: 0:05:39.\n",
            "  Batch   280  of    704.    Elapsed: 0:06:36.\n",
            "  Batch   320  of    704.    Elapsed: 0:07:32.\n",
            "  Batch   360  of    704.    Elapsed: 0:08:29.\n",
            "  Batch   400  of    704.    Elapsed: 0:09:25.\n",
            "  Batch   440  of    704.    Elapsed: 0:10:21.\n",
            "  Batch   480  of    704.    Elapsed: 0:11:18.\n",
            "  Batch   520  of    704.    Elapsed: 0:12:15.\n",
            "  Batch   560  of    704.    Elapsed: 0:13:11.\n",
            "  Batch   600  of    704.    Elapsed: 0:14:08.\n",
            "  Batch   640  of    704.    Elapsed: 0:15:04.\n",
            "  Batch   680  of    704.    Elapsed: 0:16:01.\n",
            "\n",
            "  Average training loss: 0.01\n",
            "  Training epcoh took: 0:16:33\n",
            "\n",
            "Running Validation...\n",
            "  Accuracy: 0.99\n",
            "  Validation Loss: 0.02\n",
            "  Validation took: 0:00:39\n",
            "\n",
            "======== Epoch 4 / 4 ========\n",
            "Training...\n",
            "  Batch    40  of    704.    Elapsed: 0:00:56.\n",
            "  Batch    80  of    704.    Elapsed: 0:01:53.\n",
            "  Batch   120  of    704.    Elapsed: 0:02:49.\n",
            "  Batch   160  of    704.    Elapsed: 0:03:46.\n",
            "  Batch   200  of    704.    Elapsed: 0:04:42.\n",
            "  Batch   240  of    704.    Elapsed: 0:05:39.\n",
            "  Batch   280  of    704.    Elapsed: 0:06:35.\n",
            "  Batch   320  of    704.    Elapsed: 0:07:32.\n",
            "  Batch   360  of    704.    Elapsed: 0:08:28.\n",
            "  Batch   400  of    704.    Elapsed: 0:09:25.\n",
            "  Batch   440  of    704.    Elapsed: 0:10:22.\n",
            "  Batch   480  of    704.    Elapsed: 0:11:18.\n",
            "  Batch   520  of    704.    Elapsed: 0:12:15.\n",
            "  Batch   560  of    704.    Elapsed: 0:13:11.\n",
            "  Batch   600  of    704.    Elapsed: 0:14:08.\n",
            "  Batch   640  of    704.    Elapsed: 0:15:04.\n",
            "  Batch   680  of    704.    Elapsed: 0:16:01.\n",
            "\n",
            "  Average training loss: 0.00\n",
            "  Training epcoh took: 0:16:33\n",
            "\n",
            "Running Validation...\n",
            "  Accuracy: 0.99\n",
            "  Validation Loss: 0.02\n",
            "  Validation took: 0:00:39\n",
            "\n",
            "Training complete!\n",
            "Total training took 1:08:52 (h:mm:ss)\n"
          ],
          "name": "stdout"
        }
      ]
    },
    {
      "cell_type": "code",
      "metadata": {
        "id": "YG09D3irJCIs",
        "colab": {
          "base_uri": "https://localhost:8080/",
          "height": 204
        },
        "outputId": "9c94b472-a1b8-43e4-f374-5a3899271c82"
      },
      "source": [
        "import pandas as pd\n",
        "\n",
        "# Display floats with two decimal places.\n",
        "pd.set_option('precision', 2)\n",
        "\n",
        "# Create a DataFrame from our training statistics.\n",
        "df_stats = pd.DataFrame(data=training_stats)\n",
        "\n",
        "# Use the 'epoch' as the row index.\n",
        "df_stats = df_stats.set_index('epoch')\n",
        "\n",
        "# A hack to force the column headers to wrap.\n",
        "\n",
        "\n",
        "# Display the table.\n",
        "df_stats"
      ],
      "execution_count": null,
      "outputs": [
        {
          "output_type": "execute_result",
          "data": {
            "text/html": [
              "<div>\n",
              "<style scoped>\n",
              "    .dataframe tbody tr th:only-of-type {\n",
              "        vertical-align: middle;\n",
              "    }\n",
              "\n",
              "    .dataframe tbody tr th {\n",
              "        vertical-align: top;\n",
              "    }\n",
              "\n",
              "    .dataframe thead th {\n",
              "        text-align: right;\n",
              "    }\n",
              "</style>\n",
              "<table border=\"1\" class=\"dataframe\">\n",
              "  <thead>\n",
              "    <tr style=\"text-align: right;\">\n",
              "      <th></th>\n",
              "      <th>Training Loss</th>\n",
              "      <th>Valid. Loss</th>\n",
              "      <th>Valid. Accur.</th>\n",
              "      <th>Training Time</th>\n",
              "      <th>Validation Time</th>\n",
              "    </tr>\n",
              "    <tr>\n",
              "      <th>epoch</th>\n",
              "      <th></th>\n",
              "      <th></th>\n",
              "      <th></th>\n",
              "      <th></th>\n",
              "      <th></th>\n",
              "    </tr>\n",
              "  </thead>\n",
              "  <tbody>\n",
              "    <tr>\n",
              "      <th>1</th>\n",
              "      <td>9.88e-02</td>\n",
              "      <td>0.03</td>\n",
              "      <td>0.99</td>\n",
              "      <td>0:16:33</td>\n",
              "      <td>0:00:39</td>\n",
              "    </tr>\n",
              "    <tr>\n",
              "      <th>2</th>\n",
              "      <td>1.49e-02</td>\n",
              "      <td>0.03</td>\n",
              "      <td>0.99</td>\n",
              "      <td>0:16:35</td>\n",
              "      <td>0:00:39</td>\n",
              "    </tr>\n",
              "    <tr>\n",
              "      <th>3</th>\n",
              "      <td>6.34e-03</td>\n",
              "      <td>0.02</td>\n",
              "      <td>0.99</td>\n",
              "      <td>0:16:33</td>\n",
              "      <td>0:00:39</td>\n",
              "    </tr>\n",
              "    <tr>\n",
              "      <th>4</th>\n",
              "      <td>2.84e-03</td>\n",
              "      <td>0.02</td>\n",
              "      <td>0.99</td>\n",
              "      <td>0:16:33</td>\n",
              "      <td>0:00:39</td>\n",
              "    </tr>\n",
              "  </tbody>\n",
              "</table>\n",
              "</div>"
            ],
            "text/plain": [
              "       Training Loss  Valid. Loss  Valid. Accur. Training Time Validation Time\n",
              "epoch                                                                         \n",
              "1           9.88e-02         0.03           0.99       0:16:33         0:00:39\n",
              "2           1.49e-02         0.03           0.99       0:16:35         0:00:39\n",
              "3           6.34e-03         0.02           0.99       0:16:33         0:00:39\n",
              "4           2.84e-03         0.02           0.99       0:16:33         0:00:39"
            ]
          },
          "metadata": {
            "tags": []
          },
          "execution_count": 23
        }
      ]
    },
    {
      "cell_type": "code",
      "metadata": {
        "id": "SlNQdMV0Xrc3",
        "colab": {
          "base_uri": "https://localhost:8080/",
          "height": 427
        },
        "outputId": "5f66366d-0195-443f-bd2c-66428da392ab"
      },
      "source": [
        "import matplotlib.pyplot as plt\n",
        "% matplotlib inline\n",
        "\n",
        "import seaborn as sns\n",
        "\n",
        "# Use plot styling from seaborn.\n",
        "sns.set(style='dark')\n",
        "\n",
        "# Increase the plot size and font size.\n",
        "sns.set(font_scale=1.5)\n",
        "plt.rcParams[\"figure.figsize\"] = (12,6)\n",
        "\n",
        "# Plot the learning curve.\n",
        "plt.plot(df_stats['Training Loss'], 'b-o', label=\"Training\")\n",
        "plt.plot(df_stats['Valid. Loss'], 'g-o', label=\"Validation\")\n",
        "\n",
        "# Label the plot.\n",
        "plt.title(\"Training & Validation Loss\")\n",
        "plt.xlabel(\"Epoch\")\n",
        "plt.ylabel(\"Loss\")\n",
        "plt.legend()\n",
        "plt.xticks([1, 2, 3, 4])\n",
        "\n",
        "plt.show()"
      ],
      "execution_count": null,
      "outputs": [
        {
          "output_type": "display_data",
          "data": {
            "image/png": "[encoded data removed]",
            "text/plain": [
              "<Figure size 864x432 with 1 Axes>"
            ]
          },
          "metadata": {
            "tags": []
          }
        }
      ]
    },
    {
      "cell_type": "markdown",
      "metadata": {
        "id": "8i-078wHYhwz"
      },
      "source": [
        "## Performance on Test Set"
      ]
    },
    {
      "cell_type": "code",
      "metadata": {
        "id": "aM1UgIMxZGis",
        "colab": {
          "base_uri": "https://localhost:8080/"
        },
        "outputId": "13e2ffc9-50c9-439f-ce18-e29d85cb0440"
      },
      "source": [
        "import pandas as pd\n",
        "\n",
        "# Load the dataset into a pandas dataframe.\n",
        "df_csv = pd.read_csv(\"/content/drive/MyDrive/Colab Notebooks/ML Datasets/DBpedia.csv/dbpedia_csv/DBpedia 3.0 test.csv\")\n",
        "\n",
        "# Report the number of sentences.\n",
        "print('Number of test sentences: {:,}\\n'.format(df_csv.shape[0]))\n",
        "cleanup_nums = {\"ClassType\":     {1: 0, 2: 1, 3:2, 4:3, 6:4}}\n",
        "df_csv = df_csv.replace(cleanup_nums)\n",
        "df_csv.head()\n",
        "\n",
        "# Create sentence and label lists\n",
        "Description = df_csv.Description.values\n",
        "ClassType = df_csv.ClassType.values\n",
        "\n",
        "# Tokenize all of the sentences and map the tokens to thier word IDs.\n",
        "input_ids = []\n",
        "attention_masks = []\n",
        "\n",
        "# For every sentence...\n",
        "for desc in Description:\n",
        "\n",
        "    encoded_dict = tokenizer.encode_plus(\n",
        "                        desc,                      # Sentence to encode.\n",
        "                        add_special_tokens = True, # Add '[CLS]' and '[SEP]'\n",
        "                        max_length = 420,           # Pad & truncate all sentences.\n",
        "                        pad_to_max_length = True,\n",
        "                        return_attention_mask = True,   # Construct attn. masks.\n",
        "                        return_tensors = 'pt',     # Return pytorch tensors.\n",
        "                   )\n",
        "    \n",
        "    # Add the encoded sentence to the list.    \n",
        "    input_ids.append(encoded_dict['input_ids'])\n",
        "    \n",
        "    # And its attention mask (simply differentiates padding from non-padding).\n",
        "    attention_masks.append(encoded_dict['attention_mask'])\n",
        "\n",
        "# Convert the lists into tensors.\n",
        "input_ids = torch.cat(input_ids, dim=0)\n",
        "attention_masks = torch.cat(attention_masks, dim=0)\n",
        "labels = torch.tensor(ClassType)\n",
        "\n",
        "# Set the batch size.  \n",
        "batch_size = 32  \n",
        "\n",
        "# Create the DataLoader.\n",
        "prediction_data = TensorDataset(input_ids, attention_masks, labels)\n",
        "prediction_sampler = SequentialSampler(prediction_data)\n",
        "prediction_dataloader = DataLoader(prediction_data, sampler=prediction_sampler, batch_size=batch_size)"
      ],
      "execution_count": null,
      "outputs": [
        {
          "output_type": "stream",
          "text": [
            "Number of test sentences: 500\n",
            "\n"
          ],
          "name": "stdout"
        },
        {
          "output_type": "stream",
          "text": [
            "/usr/local/lib/python3.7/dist-packages/transformers/tokenization_utils_base.py:2190: FutureWarning: The `pad_to_max_length` argument is deprecated and will be removed in a future version, use `padding=True` or `padding='longest'` to pad to the longest sequence in the batch, or use `padding='max_length'` to pad to a max length. In this case, you can give a specific length with `max_length` (e.g. `max_length=45`) or leave max_length to None to pad to the maximal input size of the model (e.g. 512 for Bert).\n",
            "  FutureWarning,\n"
          ],
          "name": "stderr"
        }
      ]
    },
    {
      "cell_type": "code",
      "metadata": {
        "id": "_6LEhGcAaGHC",
        "colab": {
          "base_uri": "https://localhost:8080/"
        },
        "outputId": "1dafa962-24d6-43a4-aee3-d10dbfe4d6fe"
      },
      "source": [
        "# Prediction on test set\n",
        "\n",
        "print('Predicting labels for {:,} test sentences...'.format(len(input_ids)))\n",
        "\n",
        "# Put model in evaluation mode\n",
        "model.eval()\n",
        "\n",
        "# Tracking variables \n",
        "predictions , true_labels = [], []\n",
        "\n",
        "# Predict \n",
        "for batch in prediction_dataloader:\n",
        "  # Add batch to GPU\n",
        "  batch = tuple(t.to(device) for t in batch)\n",
        "  \n",
        "  # Unpack the inputs from our dataloader\n",
        "  b_input_ids, b_input_mask, b_labels = batch\n",
        "  \n",
        "  # Telling the model not to compute or store gradients, saving memory and \n",
        "  # speeding up prediction\n",
        "  with torch.no_grad():\n",
        "      # Forward pass, calculate logit predictions.\n",
        "      result = model(b_input_ids, \n",
        "                     token_type_ids=None, \n",
        "                     attention_mask=b_input_mask,\n",
        "                     return_dict=True)\n",
        "\n",
        "  logits = result.logits\n",
        "\n",
        "  # Move logits and labels to CPU\n",
        "  logits = logits.detach().cpu().numpy()\n",
        "  label_ids = b_labels.to('cpu').numpy()\n",
        "  \n",
        "  # Store predictions and true labels\n",
        "  predictions.append(logits)\n",
        "  true_labels.append(label_ids)\n",
        "\n",
        "print('    DONE.')"
      ],
      "execution_count": null,
      "outputs": [
        {
          "output_type": "stream",
          "text": [
            "Predicting labels for 500 test sentences...\n",
            "    DONE.\n"
          ],
          "name": "stdout"
        }
      ]
    },
    {
      "cell_type": "markdown",
      "metadata": {
        "id": "dosHk4WOZSRb"
      },
      "source": [
        "## Final Results"
      ]
    },
    {
      "cell_type": "code",
      "metadata": {
        "id": "0t2zxetONLdB"
      },
      "source": [
        "from sklearn.metrics import matthews_corrcoef, confusion_matrix, classification_report\n",
        "from sklearn.metrics import accuracy_score, roc_curve\n"
      ],
      "execution_count": null,
      "outputs": []
    },
    {
      "cell_type": "code",
      "metadata": {
        "id": "z-d_oResNYli",
        "colab": {
          "base_uri": "https://localhost:8080/",
          "height": 1000
        },
        "outputId": "22dc58a7-1a94-4b1c-8eff-132accc488ec"
      },
      "source": [
        "# Combine the results across all batches. \n",
        "flat_predictions = np.concatenate(predictions, axis=0)\n",
        "\n",
        "# For each sample, pick the label (0 or 1) with the higher score.\n",
        "flat_predictions = np.argmax(flat_predictions, axis=1).flatten()\n",
        "\n",
        "# Combine the correct labels for each batch into a single list.\n",
        "flat_true_labels = np.concatenate(true_labels, axis=0)\n",
        "\n",
        "# Calculate the MCC\n",
        "mcc = classification_report(flat_true_labels, flat_predictions)\n",
        "XXV = confusion_matrix(flat_true_labels, flat_predictions)\n",
        "\n",
        "print(\"The Classification Report: \\n\", mcc)\n",
        "print(\"The confusion Matrix:\\n \",XXV)\n",
        "print(\"\\n The accurracy score is\" , accuracy_score(flat_true_labels, flat_predictions))\n",
        "\n",
        "import seaborn as sn\n",
        "import pandas as pd\n",
        "import matplotlib.pyplot as plt\n",
        "array =   [[ 98  , 0  , 1 ,  1 ,  0],\n",
        " [  4 , 96  , 0  , 0  , 0],\n",
        " [  0  , 0 , 99  , 1 ,  0],\n",
        " [  0   ,0   ,0 ,100  , 0],\n",
        " [  0  , 0  , 0  , 0 ,100]]\n",
        "X= ['Company', 'Educational_Institution', 'Artist', 'Athlete', 'Office_Holder' ]\n",
        "\n",
        "print(\"\\n\\n The Heatmap of the final result : \\n\")\n",
        "df_cm = pd.DataFrame(array, index = [i for i in X],\n",
        "                  columns = [i for i in X])\n",
        "plt.figure(figsize = (7,7))\n",
        "sn.heatmap(df_cm, annot=True, cmap=\"BuPu\")\n",
        "\n"
      ],
      "execution_count": null,
      "outputs": [
        {
          "output_type": "stream",
          "text": [
            "The Classification Report: \n",
            "               precision    recall  f1-score   support\n",
            "\n",
            "           0       0.96      0.98      0.97       100\n",
            "           1       1.00      0.96      0.98       100\n",
            "           2       0.99      0.99      0.99       100\n",
            "           3       0.98      1.00      0.99       100\n",
            "           4       1.00      1.00      1.00       100\n",
            "\n",
            "    accuracy                           0.99       500\n",
            "   macro avg       0.99      0.99      0.99       500\n",
            "weighted avg       0.99      0.99      0.99       500\n",
            "\n",
            "The confusion Matrix:\n",
            "  [[ 98   0   1   1   0]\n",
            " [  4  96   0   0   0]\n",
            " [  0   0  99   1   0]\n",
            " [  0   0   0 100   0]\n",
            " [  0   0   0   0 100]]\n",
            "\n",
            " The accurracy score is 0.986\n",
            "\n",
            "\n",
            " The Heatmap of the final result : \n",
            "\n"
          ],
          "name": "stdout"
        },
        {
          "output_type": "execute_result",
          "data": {
            "text/plain": [
              "<matplotlib.axes._subplots.AxesSubplot at 0x7fed8a3b4fd0>"
            ]
          },
          "metadata": {
            "tags": []
          },
          "execution_count": 32
        },
        {
          "output_type": "display_data",
          "data": {
            "image/png": "[encoded data removed]",
            "text/plain": [
              "<Figure size 504x504 with 2 Axes>"
            ]
          },
          "metadata": {
            "tags": []
          }
        }
      ]
    },
    {
      "cell_type": "markdown",
      "metadata": {
        "id": "w2WsmkgX6suD"
      },
      "source": [
        "## We get the final accuracy score of **98%**.\n",
        "\n",
        "\n",
        "                precision    recall  f1-score   support\n",
        "\n",
        "           0       0.96      0.98      0.97       100\n",
        "           1       1.00      0.96      0.98       100\n",
        "           2       0.99      0.99      0.99       100\n",
        "           3       0.98      1.00      0.99       100\n",
        "           4       1.00      1.00      1.00       100\n",
        "\n",
        "    accuracy                           0.99       500              \n",
        "\n",
        " "
      ]
    },
    {
      "cell_type": "markdown",
      "metadata": {
        "id": "WlCrF7FB8qoY"
      },
      "source": [
        "# Improvements which can made\n",
        "\n",
        "98% accuracy is a really good score. Some hyperparameter tuning may tighten the model more, but we risk overfitting at that point. The major optimisation can be done to the **Training Time**.\n",
        "\n",
        "The number of epochs can be recalculated. It was noticed that there are no  further improvements in the  error or accuracy beyond a defined threshold. Considering that, number of epochs can be reduced."
      ]
    },
    {
      "cell_type": "code",
      "metadata": {
        "id": "GEtIlqfo8oVz"
      },
      "source": [
        ""
      ],
      "execution_count": null,
      "outputs": []
    }
  ]
}